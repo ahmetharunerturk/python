{
 "cells": [
  {
   "cell_type": "code",
   "execution_count": 1,
   "id": "fe190814",
   "metadata": {},
   "outputs": [
    {
     "name": "stdout",
     "output_type": "stream",
     "text": [
      "MARKET CAPITILIZATION - INFY: 553615.0 Cr\n"
     ]
    }
   ],
   "source": [
    "from bs4 import BeautifulSoup\n",
    "from urllib.request import urlopen, Request\n",
    "\n",
    "SCRIP = 'INFY'\n",
    "link = f'https://www.screener.in/company/{SCRIP}'\n",
    "hdr = {'User-Agent':'Mozilla/5.0'}\n",
    "req = Request(link,headers=hdr)\n",
    " \n",
    "try:\n",
    "    page=urlopen(req)\n",
    "    soup = BeautifulSoup(page)\n",
    "    \n",
    "    div_html = soup.find('div',{'class': 'company-ratios'})\n",
    "    ul_html = div_html.find('ul',{'id': 'top-ratios'})\n",
    "    market_cap = 0.0\n",
    "        \n",
    "    for li in ul_html.find_all(\"li\"):\n",
    "        name_span = li.find('span',{'class':'name'})\n",
    "        if 'Market Cap' in name_span.text: \n",
    "            num_span = li.find('span',{'class':'number'})\n",
    "            num_span = num_span.text.replace(',', '')\n",
    "            market_cap = float(num_span) if (num_span != '') else 0.0\n",
    "            break\n",
    "    \n",
    "    print(f'MARKET CAPITILIZATION - {SCRIP}: {market_cap} Cr')\n",
    "\n",
    "except:\n",
    "    print(f'EXCEPTION THROWN: UNABLE TO FETCH DATA FOR {SCRIP}')"
   ]
  },
  {
   "cell_type": "code",
   "execution_count": null,
   "id": "124cc74d",
   "metadata": {},
   "outputs": [],
   "source": []
  }
 ],
 "metadata": {
  "kernelspec": {
   "display_name": "Python 3 (ipykernel)",
   "language": "python",
   "name": "python3"
  },
  "language_info": {
   "codemirror_mode": {
    "name": "ipython",
    "version": 3
   },
   "file_extension": ".py",
   "mimetype": "text/x-python",
   "name": "python",
   "nbconvert_exporter": "python",
   "pygments_lexer": "ipython3",
   "version": "3.9.6"
  }
 },
 "nbformat": 4,
 "nbformat_minor": 5
}
