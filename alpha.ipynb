{
 "cells": [
  {
   "cell_type": "code",
   "execution_count": 18,
   "metadata": {},
   "outputs": [
    {
     "name": "stdout",
     "output_type": "stream",
     "text": [
      "Requirement already satisfied: alpha_vantage in c:\\users\\user\\appdata\\local\\programs\\python\\python39\\lib\\site-packages (2.3.1)\n",
      "Requirement already satisfied: aiohttp in c:\\users\\user\\appdata\\local\\programs\\python\\python39\\lib\\site-packages (from alpha_vantage) (3.8.1)\n",
      "Requirement already satisfied: requests in c:\\users\\user\\appdata\\local\\programs\\python\\python39\\lib\\site-packages (from alpha_vantage) (2.26.0)\n",
      "Requirement already satisfied: attrs>=17.3.0 in c:\\users\\user\\appdata\\local\\programs\\python\\python39\\lib\\site-packages (from aiohttp->alpha_vantage) (21.2.0)\n",
      "Requirement already satisfied: charset-normalizer<3.0,>=2.0 in c:\\users\\user\\appdata\\local\\programs\\python\\python39\\lib\\site-packages (from aiohttp->alpha_vantage) (2.0.7)\n",
      "Requirement already satisfied: multidict<7.0,>=4.5 in c:\\users\\user\\appdata\\local\\programs\\python\\python39\\lib\\site-packages (from aiohttp->alpha_vantage) (6.0.2)\n",
      "Requirement already satisfied: async-timeout<5.0,>=4.0.0a3 in c:\\users\\user\\appdata\\local\\programs\\python\\python39\\lib\\site-packages (from aiohttp->alpha_vantage) (4.0.2)\n",
      "Requirement already satisfied: yarl<2.0,>=1.0 in c:\\users\\user\\appdata\\local\\programs\\python\\python39\\lib\\site-packages (from aiohttp->alpha_vantage) (1.7.2)\n",
      "Requirement already satisfied: frozenlist>=1.1.1 in c:\\users\\user\\appdata\\local\\programs\\python\\python39\\lib\\site-packages (from aiohttp->alpha_vantage) (1.3.0)\n",
      "Requirement already satisfied: aiosignal>=1.1.2 in c:\\users\\user\\appdata\\local\\programs\\python\\python39\\lib\\site-packages (from aiohttp->alpha_vantage) (1.2.0)\n",
      "Requirement already satisfied: urllib3<1.27,>=1.21.1 in c:\\users\\user\\appdata\\local\\programs\\python\\python39\\lib\\site-packages (from requests->alpha_vantage) (1.26.7)\n",
      "Requirement already satisfied: certifi>=2017.4.17 in c:\\users\\user\\appdata\\local\\programs\\python\\python39\\lib\\site-packages (from requests->alpha_vantage) (2021.10.8)\n",
      "Requirement already satisfied: idna<4,>=2.5 in c:\\users\\user\\appdata\\local\\programs\\python\\python39\\lib\\site-packages (from requests->alpha_vantage) (3.3)\n",
      "Note: you may need to restart the kernel to use updated packages.\n"
     ]
    }
   ],
   "source": [
    "pip install alpha_vantage"
   ]
  },
  {
   "cell_type": "code",
   "execution_count": 19,
   "metadata": {},
   "outputs": [
    {
     "name": "stdout",
     "output_type": "stream",
     "text": [
      "            1. open  2. high   3. low  4. close   5. volume\n",
      "date                                                       \n",
      "2023-07-31   196.06  196.490  195.260    196.45  38824113.0\n",
      "2023-07-28   194.67  196.626  194.140    195.83  48291443.0\n",
      "2023-07-27   196.02  197.200  192.550    193.22  47460180.0\n",
      "2023-07-26   193.67  195.640  193.320    194.50  47471868.0\n",
      "2023-07-25   193.33  194.440  192.915    193.62  37283201.0\n",
      "...             ...      ...      ...       ...         ...\n",
      "1999-11-05    84.62   88.370   84.000     88.31   3721500.0\n",
      "1999-11-04    82.06   85.370   80.620     83.62   3384700.0\n",
      "1999-11-03    81.62   83.250   81.000     81.50   2932700.0\n",
      "1999-11-02    78.00   81.690   77.310     80.25   3564600.0\n",
      "1999-11-01    80.00   80.690   77.370     77.62   2487300.0\n",
      "\n",
      "[5974 rows x 5 columns]\n"
     ]
    }
   ],
   "source": [
    "from alpha_vantage.timeseries import TimeSeries\n",
    "\n",
    "api_key = \"\"\n",
    "\n",
    "ts = TimeSeries(key=api_key, output_format='pandas')\n",
    "\n",
    "data, meta_data = ts.get_daily(symbol='AAPL', outputsize='full')\n",
    "print(data)"
   ]
  },
  {
   "cell_type": "code",
   "execution_count": 20,
   "metadata": {},
   "outputs": [
    {
     "name": "stdout",
     "output_type": "stream",
     "text": [
      "                                1. From_Currency Code 2. From_Currency Name  \\\n",
      "Realtime Currency Exchange Rate                   USD  United States Dollar   \n",
      "\n",
      "                                3. To_Currency Code 4. To_Currency Name  \\\n",
      "Realtime Currency Exchange Rate                 EUR                Euro   \n",
      "\n",
      "                                5. Exchange Rate    6. Last Refreshed  \\\n",
      "Realtime Currency Exchange Rate       0.91010000  2023-08-01 19:51:01   \n",
      "\n",
      "                                7. Time Zone 8. Bid Price 9. Ask Price  \n",
      "Realtime Currency Exchange Rate          UTC   0.91009000   0.91010000  \n"
     ]
    }
   ],
   "source": [
    "from alpha_vantage.foreignexchange import ForeignExchange\n",
    "\n",
    "fx = ForeignExchange(key=api_key, output_format='pandas')\n",
    "\n",
    "data, meta_data = fx.get_currency_exchange_rate(from_currency='USD', to_currency='EUR')\n",
    "print(data)"
   ]
  },
  {
   "cell_type": "code",
   "execution_count": 21,
   "metadata": {},
   "outputs": [
    {
     "name": "stdout",
     "output_type": "stream",
     "text": [
      "            1a. open (USD)  1b. open (USD)  2a. high (USD)  2b. high (USD)  \\\n",
      "date                                                                         \n",
      "2023-08-01        29232.26        29232.26        29254.83        29254.83   \n",
      "2023-07-31        29281.09        29281.09        29530.00        29530.00   \n",
      "2023-07-30        29352.90        29352.90        29449.00        29449.00   \n",
      "2023-07-29        29314.14        29314.14        29406.92        29406.92   \n",
      "2023-07-28        29222.78        29222.78        29542.22        29542.22   \n",
      "...                    ...             ...             ...             ...   \n",
      "2020-11-09        15475.10        15475.10        15840.00        15840.00   \n",
      "2020-11-08        14818.30        14818.30        15650.00        15650.00   \n",
      "2020-11-07        15579.93        15579.93        15753.52        15753.52   \n",
      "2020-11-06        15590.02        15590.02        15960.00        15960.00   \n",
      "2020-11-05        14144.01        14144.01        15750.00        15750.00   \n",
      "\n",
      "            3a. low (USD)  3b. low (USD)  4a. close (USD)  4b. close (USD)  \\\n",
      "date                                                                         \n",
      "2023-08-01       29210.99       29210.99         29251.33         29251.33   \n",
      "2023-07-31       29101.80       29101.80         29232.25         29232.25   \n",
      "2023-07-30       29033.24       29033.24         29281.09         29281.09   \n",
      "2023-07-29       29256.18       29256.18         29352.90         29352.90   \n",
      "2023-07-28       29123.12       29123.12         29314.14         29314.14   \n",
      "...                   ...            ...              ...              ...   \n",
      "2020-11-09       14805.54       14805.54         15328.41         15328.41   \n",
      "2020-11-08       14703.88       14703.88         15475.10         15475.10   \n",
      "2020-11-07       14344.22       14344.22         14818.30         14818.30   \n",
      "2020-11-06       15166.00       15166.00         15579.92         15579.92   \n",
      "2020-11-05       14093.56       14093.56         15590.02         15590.02   \n",
      "\n",
      "                5. volume  6. market cap (USD)  \n",
      "date                                            \n",
      "2023-08-01     465.330820           465.330820  \n",
      "2023-07-31   22605.489640         22605.489640  \n",
      "2023-07-30   15706.974410         15706.974410  \n",
      "2023-07-29   10851.368440         10851.368440  \n",
      "2023-07-28   23993.616270         23993.616270  \n",
      "...                   ...                  ...  \n",
      "2020-11-09  108976.334134        108976.334134  \n",
      "2020-11-08   65547.178574         65547.178574  \n",
      "2020-11-07  101431.206553        101431.206553  \n",
      "2020-11-06  122618.197695        122618.197695  \n",
      "2020-11-05  143741.522673        143741.522673  \n",
      "\n",
      "[1000 rows x 10 columns]\n"
     ]
    }
   ],
   "source": [
    "from alpha_vantage.cryptocurrencies import CryptoCurrencies\n",
    "\n",
    "cc = CryptoCurrencies(key=api_key, output_format='pandas')\n",
    "\n",
    "data, meta_data = cc.get_digital_currency_daily(symbol='BTC', market='USD')\n",
    "print(data)"
   ]
  },
  {
   "cell_type": "code",
   "execution_count": 22,
   "metadata": {},
   "outputs": [
    {
     "name": "stdout",
     "output_type": "stream",
     "text": [
      "                 SMA\n",
      "date                \n",
      "1999-11-12    0.6614\n",
      "1999-11-15    0.6703\n",
      "1999-11-16    0.6786\n",
      "1999-11-17    0.6853\n",
      "1999-11-18    0.6898\n",
      "...              ...\n",
      "2023-07-25  192.5260\n",
      "2023-07-26  192.9990\n",
      "2023-07-27  193.2670\n",
      "2023-07-28  193.7810\n",
      "2023-07-31  194.0270\n",
      "\n",
      "[5965 rows x 1 columns]\n"
     ]
    }
   ],
   "source": [
    "from alpha_vantage.techindicators import TechIndicators\n",
    "ti = TechIndicators(key=api_key, output_format='pandas')\n",
    "\n",
    "data, meta_data = ti.get_sma(symbol='AAPL', interval='daily', time_period=10, series_type='close')\n",
    "print(data)"
   ]
  },
  {
   "cell_type": "code",
   "execution_count": 23,
   "metadata": {},
   "outputs": [
    {
     "name": "stdout",
     "output_type": "stream",
     "text": [
      "Temettü verileri mevcut değil.\n"
     ]
    }
   ],
   "source": [
    "from alpha_vantage.timeseries import TimeSeries\n",
    "\n",
    "ts = TimeSeries(key=api_key, output_format='pandas')\n",
    "\n",
    "data, meta_data = ts.get_daily(symbol='AAPL', outputsize='full')\n",
    "\n",
    "if 'Dividends' in data.columns:\n",
    "    # Temettü verilerini görüntüleme\n",
    "    print(data['Dividends'])\n",
    "else:\n",
    "    print(\"Temettü verileri mevcut değil.\")\n"
   ]
  },
  {
   "cell_type": "code",
   "execution_count": 25,
   "metadata": {},
   "outputs": [
    {
     "name": "stdout",
     "output_type": "stream",
     "text": [
      "Global Quote    196.4500\n",
      "Name: 05. price, dtype: object\n"
     ]
    }
   ],
   "source": [
    "from alpha_vantage.timeseries import TimeSeries\n",
    "api_key = \"\"\n",
    "ts = TimeSeries(key=api_key, output_format='pandas')\n",
    "\n",
    "data, meta_data = ts.get_quote_endpoint(symbol='AAPL')\n",
    "\n",
    "# Anlık fiyatı görüntüleme\n",
    "print(data['05. price'])"
   ]
  }
 ],
 "metadata": {
  "kernelspec": {
   "display_name": "Python 3",
   "language": "python",
   "name": "python3"
  },
  "language_info": {
   "codemirror_mode": {
    "name": "ipython",
    "version": 3
   },
   "file_extension": ".py",
   "mimetype": "text/x-python",
   "name": "python",
   "nbconvert_exporter": "python",
   "pygments_lexer": "ipython3",
   "version": "3.9.6"
  },
  "orig_nbformat": 4
 },
 "nbformat": 4,
 "nbformat_minor": 2
}
